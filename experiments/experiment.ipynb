{
 "cells": [
  {
   "cell_type": "code",
   "execution_count": 1,
   "metadata": {},
   "outputs": [],
   "source": [
    "PROMPT = \"\"\"\n",
    "You are an expert exam question setter for competitive exams, corporate assessments, and technical certifications.\n",
    "\n",
    "Task:\n",
    "Generate {total_number_of_questions} multiple-choice questions (MCQs) for the given topics and difficulty levels.\n",
    "\n",
    "Topics and Difficulty Levels:\n",
    "{topics_and_difficulty}\n",
    "\n",
    "Rules:\n",
    "1. Distribute questions proportionally among topics and difficulty levels.\n",
    "2. For each topic:\n",
    "   - If multiple difficulty levels are given (e.g., Easy and Medium), include a mix of those difficulties.\n",
    "3. Difficulty calibration:\n",
    "   - Easy: Simple recall or definition-based.\n",
    "   - Medium: Application-based, requires some reasoning.\n",
    "   - Hard: Scenario or case-study based, requires deep understanding.\n",
    "4. Each MCQ must have:\n",
    "   - 1 question\n",
    "   - 4 answer options: A, B, C, D\n",
    "   - Exactly one correct answer\n",
    "   - Plausible distractors for wrong answers\n",
    "   - A one-line explanation after the answer\n",
    "5. Do not repeat questions or answers.\n",
    "6. Use clear, concise, unambiguous language.\n",
    "\n",
    "Output Format:\n",
    "Q<number>. <Question text>  \n",
    "Topic: <Topic Name>  \n",
    "Difficulty: <Easy/Medium/Hard>  \n",
    "A. <Option A>  \n",
    "B. <Option B>  \n",
    "C. <Option C>  \n",
    "D. <Option D>  \n",
    "Answer: <Correct Option Letter>  \n",
    "Explanation: <One-line explanation>  \n",
    "\n",
    "Now, generate the questions.\n",
    "\"\"\""
   ]
  },
  {
   "cell_type": "code",
   "execution_count": 2,
   "metadata": {},
   "outputs": [],
   "source": [
    "import os\n",
    "import json\n",
    "import pandas as pd\n",
    "import traceback"
   ]
  },
  {
   "cell_type": "code",
   "execution_count": 3,
   "metadata": {},
   "outputs": [
    {
     "data": {
      "text/plain": [
       "True"
      ]
     },
     "execution_count": 3,
     "metadata": {},
     "output_type": "execute_result"
    }
   ],
   "source": [
    "from langchain.chat_models import ChatOpenAI\n",
    "from dotenv import load_dotenv\n",
    "load_dotenv()"
   ]
  },
  {
   "cell_type": "code",
   "execution_count": 4,
   "metadata": {},
   "outputs": [],
   "source": [
    "from langchain.llms import OpenAI\n",
    "from langchain.prompts import PromptTemplate\n",
    "from langchain.chains import LLMChain\n",
    "from langchain.chains import SequentialChain\n",
    "from langchain.callbacks import get_openai_callback\n",
    "import PyPDF2\n"
   ]
  },
  {
   "cell_type": "code",
   "execution_count": 5,
   "metadata": {},
   "outputs": [],
   "source": [
    "KEY = os.getenv(\"OPENAI_API_KEY\")"
   ]
  },
  {
   "cell_type": "code",
   "execution_count": 6,
   "metadata": {},
   "outputs": [
    {
     "name": "stderr",
     "output_type": "stream",
     "text": [
      "/var/folders/tp/sxh28zqx32v44fzqws466pbh0000gn/T/ipykernel_22128/1898416762.py:1: LangChainDeprecationWarning: The class `ChatOpenAI` was deprecated in LangChain 0.0.10 and will be removed in 1.0. An updated version of the class exists in the langchain-openai package and should be used instead. To use it run `pip install -U langchain-openai` and import as `from langchain_openai import ChatOpenAI`.\n",
      "  llm = ChatOpenAI(openai_api_key = KEY, model_name=\"gpt-3.5-turbo\", temperature=1)\n"
     ]
    }
   ],
   "source": [
    "llm = ChatOpenAI(openai_api_key = KEY, model_name=\"gpt-3.5-turbo\", temperature=1)"
   ]
  },
  {
   "cell_type": "code",
   "execution_count": 7,
   "metadata": {},
   "outputs": [],
   "source": [
    "quiz_generation_prompt = PromptTemplate(\n",
    "    input_variables=[\"total_number_of_questions\", \"topics_and_difficulty\"],\n",
    "    template=PROMPT\n",
    ")"
   ]
  },
  {
   "cell_type": "code",
   "execution_count": 8,
   "metadata": {},
   "outputs": [
    {
     "name": "stderr",
     "output_type": "stream",
     "text": [
      "/var/folders/tp/sxh28zqx32v44fzqws466pbh0000gn/T/ipykernel_22128/3044570348.py:1: LangChainDeprecationWarning: The class `LLMChain` was deprecated in LangChain 0.1.17 and will be removed in 1.0. Use RunnableSequence, e.g., `prompt | llm` instead.\n",
      "  quiz_chain=LLMChain(llm=llm, prompt=quiz_generation_prompt, output_key=\"quiz\", verbose=True)\n"
     ]
    }
   ],
   "source": [
    "quiz_chain=LLMChain(llm=llm, prompt=quiz_generation_prompt, output_key=\"quiz\", verbose=True)\n"
   ]
  },
  {
   "cell_type": "code",
   "execution_count": 9,
   "metadata": {},
   "outputs": [
    {
     "name": "stderr",
     "output_type": "stream",
     "text": [
      "/var/folders/tp/sxh28zqx32v44fzqws466pbh0000gn/T/ipykernel_22128/2326136648.py:1: LangChainDeprecationWarning: The method `Chain.run` was deprecated in langchain 0.1.0 and will be removed in 1.0. Use invoke instead.\n",
      "  response = quiz_chain.run({\"number_of_questions\": 5, \"topic\": \"Python Programming\", \"difficulty_level\": \"Intermediate\"})\n",
      "Error in StdOutCallbackHandler.on_chain_start callback: AttributeError(\"'NoneType' object has no attribute 'get'\")\n"
     ]
    },
    {
     "ename": "ValueError",
     "evalue": "Missing some input keys: {'total_number_of_questions', 'topics_and_difficulty'}",
     "output_type": "error",
     "traceback": [
      "\u001b[0;31m---------------------------------------------------------------------------\u001b[0m",
      "\u001b[0;31mValueError\u001b[0m                                Traceback (most recent call last)",
      "Cell \u001b[0;32mIn[9], line 1\u001b[0m\n\u001b[0;32m----> 1\u001b[0m response \u001b[38;5;241m=\u001b[39m \u001b[43mquiz_chain\u001b[49m\u001b[38;5;241;43m.\u001b[39;49m\u001b[43mrun\u001b[49m\u001b[43m(\u001b[49m\u001b[43m{\u001b[49m\u001b[38;5;124;43m\"\u001b[39;49m\u001b[38;5;124;43mnumber_of_questions\u001b[39;49m\u001b[38;5;124;43m\"\u001b[39;49m\u001b[43m:\u001b[49m\u001b[43m \u001b[49m\u001b[38;5;241;43m5\u001b[39;49m\u001b[43m,\u001b[49m\u001b[43m \u001b[49m\u001b[38;5;124;43m\"\u001b[39;49m\u001b[38;5;124;43mtopic\u001b[39;49m\u001b[38;5;124;43m\"\u001b[39;49m\u001b[43m:\u001b[49m\u001b[43m \u001b[49m\u001b[38;5;124;43m\"\u001b[39;49m\u001b[38;5;124;43mPython Programming\u001b[39;49m\u001b[38;5;124;43m\"\u001b[39;49m\u001b[43m,\u001b[49m\u001b[43m \u001b[49m\u001b[38;5;124;43m\"\u001b[39;49m\u001b[38;5;124;43mdifficulty_level\u001b[39;49m\u001b[38;5;124;43m\"\u001b[39;49m\u001b[43m:\u001b[49m\u001b[43m \u001b[49m\u001b[38;5;124;43m\"\u001b[39;49m\u001b[38;5;124;43mIntermediate\u001b[39;49m\u001b[38;5;124;43m\"\u001b[39;49m\u001b[43m}\u001b[49m\u001b[43m)\u001b[49m\n",
      "File \u001b[0;32m~/Desktop/Learnings/mcqgen/env/lib/python3.8/site-packages/langchain_core/_api/deprecation.py:180\u001b[0m, in \u001b[0;36mdeprecated.<locals>.deprecate.<locals>.warning_emitting_wrapper\u001b[0;34m(*args, **kwargs)\u001b[0m\n\u001b[1;32m    178\u001b[0m     warned \u001b[38;5;241m=\u001b[39m \u001b[38;5;28;01mTrue\u001b[39;00m\n\u001b[1;32m    179\u001b[0m     emit_warning()\n\u001b[0;32m--> 180\u001b[0m \u001b[38;5;28;01mreturn\u001b[39;00m \u001b[43mwrapped\u001b[49m\u001b[43m(\u001b[49m\u001b[38;5;241;43m*\u001b[39;49m\u001b[43margs\u001b[49m\u001b[43m,\u001b[49m\u001b[43m \u001b[49m\u001b[38;5;241;43m*\u001b[39;49m\u001b[38;5;241;43m*\u001b[39;49m\u001b[43mkwargs\u001b[49m\u001b[43m)\u001b[49m\n",
      "File \u001b[0;32m~/Desktop/Learnings/mcqgen/env/lib/python3.8/site-packages/langchain/chains/base.py:597\u001b[0m, in \u001b[0;36mChain.run\u001b[0;34m(self, callbacks, tags, metadata, *args, **kwargs)\u001b[0m\n\u001b[1;32m    595\u001b[0m     \u001b[38;5;28;01mif\u001b[39;00m \u001b[38;5;28mlen\u001b[39m(args) \u001b[38;5;241m!=\u001b[39m \u001b[38;5;241m1\u001b[39m:\n\u001b[1;32m    596\u001b[0m         \u001b[38;5;28;01mraise\u001b[39;00m \u001b[38;5;167;01mValueError\u001b[39;00m(\u001b[38;5;124m\"\u001b[39m\u001b[38;5;124m`run` supports only one positional argument.\u001b[39m\u001b[38;5;124m\"\u001b[39m)\n\u001b[0;32m--> 597\u001b[0m     \u001b[38;5;28;01mreturn\u001b[39;00m \u001b[38;5;28;43mself\u001b[39;49m\u001b[43m(\u001b[49m\u001b[43margs\u001b[49m\u001b[43m[\u001b[49m\u001b[38;5;241;43m0\u001b[39;49m\u001b[43m]\u001b[49m\u001b[43m,\u001b[49m\u001b[43m \u001b[49m\u001b[43mcallbacks\u001b[49m\u001b[38;5;241;43m=\u001b[39;49m\u001b[43mcallbacks\u001b[49m\u001b[43m,\u001b[49m\u001b[43m \u001b[49m\u001b[43mtags\u001b[49m\u001b[38;5;241;43m=\u001b[39;49m\u001b[43mtags\u001b[49m\u001b[43m,\u001b[49m\u001b[43m \u001b[49m\u001b[43mmetadata\u001b[49m\u001b[38;5;241;43m=\u001b[39;49m\u001b[43mmetadata\u001b[49m\u001b[43m)\u001b[49m[\n\u001b[1;32m    598\u001b[0m         _output_key\n\u001b[1;32m    599\u001b[0m     ]\n\u001b[1;32m    601\u001b[0m \u001b[38;5;28;01mif\u001b[39;00m kwargs \u001b[38;5;129;01mand\u001b[39;00m \u001b[38;5;129;01mnot\u001b[39;00m args:\n\u001b[1;32m    602\u001b[0m     \u001b[38;5;28;01mreturn\u001b[39;00m \u001b[38;5;28mself\u001b[39m(kwargs, callbacks\u001b[38;5;241m=\u001b[39mcallbacks, tags\u001b[38;5;241m=\u001b[39mtags, metadata\u001b[38;5;241m=\u001b[39mmetadata)[\n\u001b[1;32m    603\u001b[0m         _output_key\n\u001b[1;32m    604\u001b[0m     ]\n",
      "File \u001b[0;32m~/Desktop/Learnings/mcqgen/env/lib/python3.8/site-packages/langchain_core/_api/deprecation.py:180\u001b[0m, in \u001b[0;36mdeprecated.<locals>.deprecate.<locals>.warning_emitting_wrapper\u001b[0;34m(*args, **kwargs)\u001b[0m\n\u001b[1;32m    178\u001b[0m     warned \u001b[38;5;241m=\u001b[39m \u001b[38;5;28;01mTrue\u001b[39;00m\n\u001b[1;32m    179\u001b[0m     emit_warning()\n\u001b[0;32m--> 180\u001b[0m \u001b[38;5;28;01mreturn\u001b[39;00m \u001b[43mwrapped\u001b[49m\u001b[43m(\u001b[49m\u001b[38;5;241;43m*\u001b[39;49m\u001b[43margs\u001b[49m\u001b[43m,\u001b[49m\u001b[43m \u001b[49m\u001b[38;5;241;43m*\u001b[39;49m\u001b[38;5;241;43m*\u001b[39;49m\u001b[43mkwargs\u001b[49m\u001b[43m)\u001b[49m\n",
      "File \u001b[0;32m~/Desktop/Learnings/mcqgen/env/lib/python3.8/site-packages/langchain/chains/base.py:380\u001b[0m, in \u001b[0;36mChain.__call__\u001b[0;34m(self, inputs, return_only_outputs, callbacks, tags, metadata, run_name, include_run_info)\u001b[0m\n\u001b[1;32m    348\u001b[0m \u001b[38;5;250m\u001b[39m\u001b[38;5;124;03m\"\"\"Execute the chain.\u001b[39;00m\n\u001b[1;32m    349\u001b[0m \n\u001b[1;32m    350\u001b[0m \u001b[38;5;124;03mArgs:\u001b[39;00m\n\u001b[0;32m   (...)\u001b[0m\n\u001b[1;32m    371\u001b[0m \u001b[38;5;124;03m        `Chain.output_keys`.\u001b[39;00m\n\u001b[1;32m    372\u001b[0m \u001b[38;5;124;03m\"\"\"\u001b[39;00m\n\u001b[1;32m    373\u001b[0m config \u001b[38;5;241m=\u001b[39m {\n\u001b[1;32m    374\u001b[0m     \u001b[38;5;124m\"\u001b[39m\u001b[38;5;124mcallbacks\u001b[39m\u001b[38;5;124m\"\u001b[39m: callbacks,\n\u001b[1;32m    375\u001b[0m     \u001b[38;5;124m\"\u001b[39m\u001b[38;5;124mtags\u001b[39m\u001b[38;5;124m\"\u001b[39m: tags,\n\u001b[1;32m    376\u001b[0m     \u001b[38;5;124m\"\u001b[39m\u001b[38;5;124mmetadata\u001b[39m\u001b[38;5;124m\"\u001b[39m: metadata,\n\u001b[1;32m    377\u001b[0m     \u001b[38;5;124m\"\u001b[39m\u001b[38;5;124mrun_name\u001b[39m\u001b[38;5;124m\"\u001b[39m: run_name,\n\u001b[1;32m    378\u001b[0m }\n\u001b[0;32m--> 380\u001b[0m \u001b[38;5;28;01mreturn\u001b[39;00m \u001b[38;5;28;43mself\u001b[39;49m\u001b[38;5;241;43m.\u001b[39;49m\u001b[43minvoke\u001b[49m\u001b[43m(\u001b[49m\n\u001b[1;32m    381\u001b[0m \u001b[43m    \u001b[49m\u001b[43minputs\u001b[49m\u001b[43m,\u001b[49m\n\u001b[1;32m    382\u001b[0m \u001b[43m    \u001b[49m\u001b[43mcast\u001b[49m\u001b[43m(\u001b[49m\u001b[43mRunnableConfig\u001b[49m\u001b[43m,\u001b[49m\u001b[43m \u001b[49m\u001b[43m{\u001b[49m\u001b[43mk\u001b[49m\u001b[43m:\u001b[49m\u001b[43m \u001b[49m\u001b[43mv\u001b[49m\u001b[43m \u001b[49m\u001b[38;5;28;43;01mfor\u001b[39;49;00m\u001b[43m \u001b[49m\u001b[43mk\u001b[49m\u001b[43m,\u001b[49m\u001b[43m \u001b[49m\u001b[43mv\u001b[49m\u001b[43m \u001b[49m\u001b[38;5;129;43;01min\u001b[39;49;00m\u001b[43m \u001b[49m\u001b[43mconfig\u001b[49m\u001b[38;5;241;43m.\u001b[39;49m\u001b[43mitems\u001b[49m\u001b[43m(\u001b[49m\u001b[43m)\u001b[49m\u001b[43m \u001b[49m\u001b[38;5;28;43;01mif\u001b[39;49;00m\u001b[43m \u001b[49m\u001b[43mv\u001b[49m\u001b[43m \u001b[49m\u001b[38;5;129;43;01mis\u001b[39;49;00m\u001b[43m \u001b[49m\u001b[38;5;129;43;01mnot\u001b[39;49;00m\u001b[43m \u001b[49m\u001b[38;5;28;43;01mNone\u001b[39;49;00m\u001b[43m}\u001b[49m\u001b[43m)\u001b[49m\u001b[43m,\u001b[49m\n\u001b[1;32m    383\u001b[0m \u001b[43m    \u001b[49m\u001b[43mreturn_only_outputs\u001b[49m\u001b[38;5;241;43m=\u001b[39;49m\u001b[43mreturn_only_outputs\u001b[49m\u001b[43m,\u001b[49m\n\u001b[1;32m    384\u001b[0m \u001b[43m    \u001b[49m\u001b[43minclude_run_info\u001b[49m\u001b[38;5;241;43m=\u001b[39;49m\u001b[43minclude_run_info\u001b[49m\u001b[43m,\u001b[49m\n\u001b[1;32m    385\u001b[0m \u001b[43m\u001b[49m\u001b[43m)\u001b[49m\n",
      "File \u001b[0;32m~/Desktop/Learnings/mcqgen/env/lib/python3.8/site-packages/langchain/chains/base.py:163\u001b[0m, in \u001b[0;36mChain.invoke\u001b[0;34m(self, input, config, **kwargs)\u001b[0m\n\u001b[1;32m    161\u001b[0m \u001b[38;5;28;01mexcept\u001b[39;00m \u001b[38;5;167;01mBaseException\u001b[39;00m \u001b[38;5;28;01mas\u001b[39;00m e:\n\u001b[1;32m    162\u001b[0m     run_manager\u001b[38;5;241m.\u001b[39mon_chain_error(e)\n\u001b[0;32m--> 163\u001b[0m     \u001b[38;5;28;01mraise\u001b[39;00m e\n\u001b[1;32m    164\u001b[0m run_manager\u001b[38;5;241m.\u001b[39mon_chain_end(outputs)\n\u001b[1;32m    166\u001b[0m \u001b[38;5;28;01mif\u001b[39;00m include_run_info:\n",
      "File \u001b[0;32m~/Desktop/Learnings/mcqgen/env/lib/python3.8/site-packages/langchain/chains/base.py:151\u001b[0m, in \u001b[0;36mChain.invoke\u001b[0;34m(self, input, config, **kwargs)\u001b[0m\n\u001b[1;32m    144\u001b[0m run_manager \u001b[38;5;241m=\u001b[39m callback_manager\u001b[38;5;241m.\u001b[39mon_chain_start(\n\u001b[1;32m    145\u001b[0m     \u001b[38;5;28;01mNone\u001b[39;00m,\n\u001b[1;32m    146\u001b[0m     inputs,\n\u001b[1;32m    147\u001b[0m     run_id,\n\u001b[1;32m    148\u001b[0m     name\u001b[38;5;241m=\u001b[39mrun_name,\n\u001b[1;32m    149\u001b[0m )\n\u001b[1;32m    150\u001b[0m \u001b[38;5;28;01mtry\u001b[39;00m:\n\u001b[0;32m--> 151\u001b[0m     \u001b[38;5;28;43mself\u001b[39;49m\u001b[38;5;241;43m.\u001b[39;49m\u001b[43m_validate_inputs\u001b[49m\u001b[43m(\u001b[49m\u001b[43minputs\u001b[49m\u001b[43m)\u001b[49m\n\u001b[1;32m    152\u001b[0m     outputs \u001b[38;5;241m=\u001b[39m (\n\u001b[1;32m    153\u001b[0m         \u001b[38;5;28mself\u001b[39m\u001b[38;5;241m.\u001b[39m_call(inputs, run_manager\u001b[38;5;241m=\u001b[39mrun_manager)\n\u001b[1;32m    154\u001b[0m         \u001b[38;5;28;01mif\u001b[39;00m new_arg_supported\n\u001b[1;32m    155\u001b[0m         \u001b[38;5;28;01melse\u001b[39;00m \u001b[38;5;28mself\u001b[39m\u001b[38;5;241m.\u001b[39m_call(inputs)\n\u001b[1;32m    156\u001b[0m     )\n\u001b[1;32m    158\u001b[0m     final_outputs: Dict[\u001b[38;5;28mstr\u001b[39m, Any] \u001b[38;5;241m=\u001b[39m \u001b[38;5;28mself\u001b[39m\u001b[38;5;241m.\u001b[39mprep_outputs(\n\u001b[1;32m    159\u001b[0m         inputs, outputs, return_only_outputs\n\u001b[1;32m    160\u001b[0m     )\n",
      "File \u001b[0;32m~/Desktop/Learnings/mcqgen/env/lib/python3.8/site-packages/langchain/chains/base.py:281\u001b[0m, in \u001b[0;36mChain._validate_inputs\u001b[0;34m(self, inputs)\u001b[0m\n\u001b[1;32m    279\u001b[0m missing_keys \u001b[38;5;241m=\u001b[39m \u001b[38;5;28mset\u001b[39m(\u001b[38;5;28mself\u001b[39m\u001b[38;5;241m.\u001b[39minput_keys)\u001b[38;5;241m.\u001b[39mdifference(inputs)\n\u001b[1;32m    280\u001b[0m \u001b[38;5;28;01mif\u001b[39;00m missing_keys:\n\u001b[0;32m--> 281\u001b[0m     \u001b[38;5;28;01mraise\u001b[39;00m \u001b[38;5;167;01mValueError\u001b[39;00m(\u001b[38;5;124mf\u001b[39m\u001b[38;5;124m\"\u001b[39m\u001b[38;5;124mMissing some input keys: \u001b[39m\u001b[38;5;132;01m{\u001b[39;00mmissing_keys\u001b[38;5;132;01m}\u001b[39;00m\u001b[38;5;124m\"\u001b[39m)\n",
      "\u001b[0;31mValueError\u001b[0m: Missing some input keys: {'total_number_of_questions', 'topics_and_difficulty'}"
     ]
    }
   ],
   "source": [
    "response = quiz_chain.run({\"number_of_questions\": 5, \"topic\": \"Python Programming\", \"difficulty_level\": \"Intermediate\"})"
   ]
  },
  {
   "cell_type": "code",
   "execution_count": 10,
   "metadata": {},
   "outputs": [
    {
     "ename": "NameError",
     "evalue": "name 'response' is not defined",
     "output_type": "error",
     "traceback": [
      "\u001b[0;31m---------------------------------------------------------------------------\u001b[0m",
      "\u001b[0;31mNameError\u001b[0m                                 Traceback (most recent call last)",
      "Cell \u001b[0;32mIn[10], line 1\u001b[0m\n\u001b[0;32m----> 1\u001b[0m \u001b[38;5;28mprint\u001b[39m(\u001b[43mresponse\u001b[49m)\n",
      "\u001b[0;31mNameError\u001b[0m: name 'response' is not defined"
     ]
    }
   ],
   "source": [
    "print(response)"
   ]
  },
  {
   "cell_type": "code",
   "execution_count": 11,
   "metadata": {},
   "outputs": [],
   "source": [
    "topics_list = [\n",
    "    {\"topic\": \"Cloud Computing\", \"difficulty\": \"Easy, Medium\"},\n",
    "    {\"topic\": \"English Grammar\", \"difficulty\": \"Easy\"},\n",
    "    {\"topic\": \"Most recent updates about Artificial Intelligence\", \"difficulty\": \"Medium, Hard\"},\n",
    "    {\"topic\": \"Aptitude (Percentages)\", \"difficulty\": \"Easy, Medium\"}\n",
    "]\n",
    "\n",
    "topics_str = \"\\n\".join([f\"{t['topic']} – {t['difficulty']}\" for t in topics_list])\n",
    "\n",
    "formatted_prompt = quiz_generation_prompt.format(\n",
    "    total_number_of_questions=12,\n",
    "    topics_and_difficulty=topics_str\n",
    ")"
   ]
  },
  {
   "cell_type": "code",
   "execution_count": 12,
   "metadata": {},
   "outputs": [],
   "source": [
    "quiz_chain = LLMChain(llm=llm, prompt=quiz_generation_prompt, output_key=\"quiz\", verbose=True)\n"
   ]
  },
  {
   "cell_type": "code",
   "execution_count": 13,
   "metadata": {},
   "outputs": [
    {
     "name": "stderr",
     "output_type": "stream",
     "text": [
      "Error in StdOutCallbackHandler.on_chain_start callback: AttributeError(\"'NoneType' object has no attribute 'get'\")\n"
     ]
    },
    {
     "name": "stdout",
     "output_type": "stream",
     "text": [
      "Prompt after formatting:\n",
      "\u001b[32;1m\u001b[1;3m\n",
      "You are an expert exam question setter for competitive exams, corporate assessments, and technical certifications.\n",
      "\n",
      "Task:\n",
      "Generate 10 multiple-choice questions (MCQs) for the given topics and difficulty levels.\n",
      "\n",
      "Topics and Difficulty Levels:\n",
      "Cloud Computing – Easy, Medium\n",
      "English Grammar – Easy\n",
      "Most recent updates about Artificial Intelligence – Medium, Hard\n",
      "Aptitude (Percentages) – Easy, Medium\n",
      "\n",
      "Rules:\n",
      "1. Distribute questions proportionally among topics and difficulty levels.\n",
      "2. For each topic:\n",
      "   - If multiple difficulty levels are given (e.g., Easy and Medium), include a mix of those difficulties.\n",
      "3. Difficulty calibration:\n",
      "   - Easy: Simple recall or definition-based.\n",
      "   - Medium: Application-based, requires some reasoning.\n",
      "   - Hard: Scenario or case-study based, requires deep understanding.\n",
      "4. Each MCQ must have:\n",
      "   - 1 question\n",
      "   - 4 answer options: A, B, C, D\n",
      "   - Exactly one correct answer\n",
      "   - Plausible distractors for wrong answers\n",
      "   - A one-line explanation after the answer\n",
      "5. Do not repeat questions or answers.\n",
      "6. Use clear, concise, unambiguous language.\n",
      "\n",
      "Output Format:\n",
      "Q<number>. <Question text>  \n",
      "Topic: <Topic Name>  \n",
      "Difficulty: <Easy/Medium/Hard>  \n",
      "A. <Option A>  \n",
      "B. <Option B>  \n",
      "C. <Option C>  \n",
      "D. <Option D>  \n",
      "Answer: <Correct Option Letter>  \n",
      "Explanation: <One-line explanation>  \n",
      "\n",
      "Now, generate the questions.\n",
      "\u001b[0m\n",
      "\n",
      "\u001b[1m> Finished chain.\u001b[0m\n"
     ]
    }
   ],
   "source": [
    "response_2 = quiz_chain.invoke({\"total_number_of_questions\" : 10, \"topics_and_difficulty\": topics_str})"
   ]
  },
  {
   "cell_type": "code",
   "execution_count": 14,
   "metadata": {},
   "outputs": [
    {
     "name": "stdout",
     "output_type": "stream",
     "text": [
      "total_number_of_questions: 10\n",
      "topics_and_difficulty: Cloud Computing – Easy, Medium\n",
      "English Grammar – Easy\n",
      "Most recent updates about Artificial Intelligence – Medium, Hard\n",
      "Aptitude (Percentages) – Easy, Medium\n",
      "quiz: Q1. What is the primary benefit of cloud computing?  \n",
      "Topic: Cloud Computing  \n",
      "Difficulty: Easy  \n",
      "A. Cost savings  \n",
      "B. Data security  \n",
      "C. Physical storage  \n",
      "D. Network latency  \n",
      "Answer: A  \n",
      "Explanation: Cloud computing allows organizations to reduce costs by eliminating the need to invest in physical hardware and infrastructure.\n",
      "\n",
      "Q2. Which of the following is an example of a preposition in English grammar?  \n",
      "Topic: English Grammar  \n",
      "Difficulty: Easy  \n",
      "A. Dog  \n",
      "B. Run  \n",
      "C. On  \n",
      "D. Quickly  \n",
      "Answer: C  \n",
      "Explanation: Prepositions show the relationship between a noun or pronoun and other words in a sentence.\n",
      "\n",
      "Q3. What is a neural network in the context of artificial intelligence (AI)?  \n",
      "Topic: Most recent updates about Artificial Intelligence  \n",
      "Difficulty: Medium  \n",
      "A. A type of computer virus  \n",
      "B. A system inspired by the way neurons in the human brain work  \n",
      "C. An advanced form of machine learning  \n",
      "D. An autonomous robot  \n",
      "Answer: B  \n",
      "Explanation: Neural networks are computing systems inspired by the biological neural networks in the human brain.\n",
      "\n",
      "Q4. In cloud computing, what does SaaS stand for?  \n",
      "Topic: Cloud Computing  \n",
      "Difficulty: Medium  \n",
      "A. Software as a Service  \n",
      "B. Storage as a Service  \n",
      "C. Security as a Service  \n",
      "D. System as a Service  \n",
      "Answer: A  \n",
      "Explanation: SaaS refers to software hosted on the cloud and accessible over the internet, eliminating the need for physical installation.\n",
      "\n",
      "Q5. Identify the correct form of the verb in the following sentence: \"She __________ to the store yesterday.\"  \n",
      "Topic: English Grammar  \n",
      "Difficulty: Easy  \n",
      "A. Go  \n",
      "B. Goes  \n",
      "C. Went  \n",
      "D. Gone  \n",
      "Answer: C  \n",
      "Explanation: In this past tense sentence, \"went\" is the correct form of the verb.\n",
      "\n",
      "Q6. Which company recently announced the development of GPT-3, a highly advanced language model based on artificial intelligence?  \n",
      "Topic: Most recent updates about Artificial Intelligence  \n",
      "Difficulty: Hard  \n",
      "A. Google  \n",
      "B. Amazon  \n",
      "C. Facebook  \n",
      "D. OpenAI  \n",
      "Answer: D  \n",
      "Explanation: OpenAI is the company behind the development of GPT-3, which has gained significant attention for its capabilities in natural language processing.\n",
      "\n",
      "Q7. If a product is initially priced at $50 and is later discounted by 20%, what is the final price of the product?  \n",
      "Topic: Aptitude (Percentages)  \n",
      "Difficulty: Easy  \n",
      "A. $40  \n",
      "B. $45  \n",
      "C. $48  \n",
      "D. $52  \n",
      "Answer: A  \n",
      "Explanation: A 20% discount on $50 results in a final price of $40.\n",
      "\n",
      "Q8. In cloud computing, what is the purpose of a Virtual Private Network (VPN)?  \n",
      "Topic: Cloud Computing  \n",
      "Difficulty: Medium  \n",
      "A. To secure network connections over the internet  \n",
      "B. To improve server performance  \n",
      "C. To manage virtual machines  \n",
      "D. To store data securely  \n",
      "Answer: A  \n",
      "Explanation: VPNs in cloud computing help secure and encrypt network connections over the internet to protect sensitive data.\n",
      "\n",
      "Q9. Which of the following is a complex sentence in English grammar?  \n",
      "Topic: English Grammar  \n",
      "Difficulty: Easy  \n",
      "A. I eat pizza  \n",
      "B. The cat sat on the mat  \n",
      "C. He went to the store, but he forgot to buy milk  \n",
      "D. Sarah runs fast  \n",
      "Answer: C  \n",
      "Explanation: A complex sentence contains an independent clause and one or more dependent clauses.\n",
      "\n",
      "Q10. What is the key advantage of using machine learning algorithms in artificial intelligence applications?  \n",
      "Topic: Most recent updates about Artificial Intelligence  \n",
      "Difficulty: Medium  \n",
      "A. Increased speed of decision-making  \n",
      "B. Reduced need for data  \n",
      "C. Limited scalability  \n",
      "D. Lack of adaptability  \n",
      "Answer: A  \n",
      "Explanation: Machine learning algorithms enable AI applications to analyze vast amounts of data quickly, leading to faster decision-making processes.\n"
     ]
    }
   ],
   "source": [
    "for k, v in (response_2).items():\n",
    "    print(f\"{k}: {v}\")"
   ]
  },
  {
   "cell_type": "code",
   "execution_count": 15,
   "metadata": {},
   "outputs": [
    {
     "data": {
      "text/plain": [
       "dict_items([('total_number_of_questions', 10), ('topics_and_difficulty', 'Cloud Computing – Easy, Medium\\nEnglish Grammar – Easy\\nMost recent updates about Artificial Intelligence – Medium, Hard\\nAptitude (Percentages) – Easy, Medium'), ('quiz', 'Q1. What is the primary benefit of cloud computing?  \\nTopic: Cloud Computing  \\nDifficulty: Easy  \\nA. Cost savings  \\nB. Data security  \\nC. Physical storage  \\nD. Network latency  \\nAnswer: A  \\nExplanation: Cloud computing allows organizations to reduce costs by eliminating the need to invest in physical hardware and infrastructure.\\n\\nQ2. Which of the following is an example of a preposition in English grammar?  \\nTopic: English Grammar  \\nDifficulty: Easy  \\nA. Dog  \\nB. Run  \\nC. On  \\nD. Quickly  \\nAnswer: C  \\nExplanation: Prepositions show the relationship between a noun or pronoun and other words in a sentence.\\n\\nQ3. What is a neural network in the context of artificial intelligence (AI)?  \\nTopic: Most recent updates about Artificial Intelligence  \\nDifficulty: Medium  \\nA. A type of computer virus  \\nB. A system inspired by the way neurons in the human brain work  \\nC. An advanced form of machine learning  \\nD. An autonomous robot  \\nAnswer: B  \\nExplanation: Neural networks are computing systems inspired by the biological neural networks in the human brain.\\n\\nQ4. In cloud computing, what does SaaS stand for?  \\nTopic: Cloud Computing  \\nDifficulty: Medium  \\nA. Software as a Service  \\nB. Storage as a Service  \\nC. Security as a Service  \\nD. System as a Service  \\nAnswer: A  \\nExplanation: SaaS refers to software hosted on the cloud and accessible over the internet, eliminating the need for physical installation.\\n\\nQ5. Identify the correct form of the verb in the following sentence: \"She __________ to the store yesterday.\"  \\nTopic: English Grammar  \\nDifficulty: Easy  \\nA. Go  \\nB. Goes  \\nC. Went  \\nD. Gone  \\nAnswer: C  \\nExplanation: In this past tense sentence, \"went\" is the correct form of the verb.\\n\\nQ6. Which company recently announced the development of GPT-3, a highly advanced language model based on artificial intelligence?  \\nTopic: Most recent updates about Artificial Intelligence  \\nDifficulty: Hard  \\nA. Google  \\nB. Amazon  \\nC. Facebook  \\nD. OpenAI  \\nAnswer: D  \\nExplanation: OpenAI is the company behind the development of GPT-3, which has gained significant attention for its capabilities in natural language processing.\\n\\nQ7. If a product is initially priced at $50 and is later discounted by 20%, what is the final price of the product?  \\nTopic: Aptitude (Percentages)  \\nDifficulty: Easy  \\nA. $40  \\nB. $45  \\nC. $48  \\nD. $52  \\nAnswer: A  \\nExplanation: A 20% discount on $50 results in a final price of $40.\\n\\nQ8. In cloud computing, what is the purpose of a Virtual Private Network (VPN)?  \\nTopic: Cloud Computing  \\nDifficulty: Medium  \\nA. To secure network connections over the internet  \\nB. To improve server performance  \\nC. To manage virtual machines  \\nD. To store data securely  \\nAnswer: A  \\nExplanation: VPNs in cloud computing help secure and encrypt network connections over the internet to protect sensitive data.\\n\\nQ9. Which of the following is a complex sentence in English grammar?  \\nTopic: English Grammar  \\nDifficulty: Easy  \\nA. I eat pizza  \\nB. The cat sat on the mat  \\nC. He went to the store, but he forgot to buy milk  \\nD. Sarah runs fast  \\nAnswer: C  \\nExplanation: A complex sentence contains an independent clause and one or more dependent clauses.\\n\\nQ10. What is the key advantage of using machine learning algorithms in artificial intelligence applications?  \\nTopic: Most recent updates about Artificial Intelligence  \\nDifficulty: Medium  \\nA. Increased speed of decision-making  \\nB. Reduced need for data  \\nC. Limited scalability  \\nD. Lack of adaptability  \\nAnswer: A  \\nExplanation: Machine learning algorithms enable AI applications to analyze vast amounts of data quickly, leading to faster decision-making processes.')])"
      ]
     },
     "execution_count": 15,
     "metadata": {},
     "output_type": "execute_result"
    }
   ],
   "source": [
    "(response_2).items()"
   ]
  },
  {
   "cell_type": "code",
   "execution_count": 16,
   "metadata": {},
   "outputs": [
    {
     "name": "stdout",
     "output_type": "stream",
     "text": [
      "Q1. What is the primary benefit of cloud computing?  \n",
      "Topic: Cloud Computing  \n",
      "Difficulty: Easy  \n",
      "A. Cost savings  \n",
      "B. Data security  \n",
      "C. Physical storage  \n",
      "D. Network latency  \n",
      "Answer: A  \n",
      "Explanation: Cloud computing allows organizations to reduce costs by eliminating the need to invest in physical hardware and infrastructure.\n",
      "\n",
      "Q2. Which of the following is an example of a preposition in English grammar?  \n",
      "Topic: English Grammar  \n",
      "Difficulty: Easy  \n",
      "A. Dog  \n",
      "B. Run  \n",
      "C. On  \n",
      "D. Quickly  \n",
      "Answer: C  \n",
      "Explanation: Prepositions show the relationship between a noun or pronoun and other words in a sentence.\n",
      "\n",
      "Q3. What is a neural network in the context of artificial intelligence (AI)?  \n",
      "Topic: Most recent updates about Artificial Intelligence  \n",
      "Difficulty: Medium  \n",
      "A. A type of computer virus  \n",
      "B. A system inspired by the way neurons in the human brain work  \n",
      "C. An advanced form of machine learning  \n",
      "D. An autonomous robot  \n",
      "Answer: B  \n",
      "Explanation: Neural networks are computing systems inspired by the biological neural networks in the human brain.\n",
      "\n",
      "Q4. In cloud computing, what does SaaS stand for?  \n",
      "Topic: Cloud Computing  \n",
      "Difficulty: Medium  \n",
      "A. Software as a Service  \n",
      "B. Storage as a Service  \n",
      "C. Security as a Service  \n",
      "D. System as a Service  \n",
      "Answer: A  \n",
      "Explanation: SaaS refers to software hosted on the cloud and accessible over the internet, eliminating the need for physical installation.\n",
      "\n",
      "Q5. Identify the correct form of the verb in the following sentence: \"She __________ to the store yesterday.\"  \n",
      "Topic: English Grammar  \n",
      "Difficulty: Easy  \n",
      "A. Go  \n",
      "B. Goes  \n",
      "C. Went  \n",
      "D. Gone  \n",
      "Answer: C  \n",
      "Explanation: In this past tense sentence, \"went\" is the correct form of the verb.\n",
      "\n",
      "Q6. Which company recently announced the development of GPT-3, a highly advanced language model based on artificial intelligence?  \n",
      "Topic: Most recent updates about Artificial Intelligence  \n",
      "Difficulty: Hard  \n",
      "A. Google  \n",
      "B. Amazon  \n",
      "C. Facebook  \n",
      "D. OpenAI  \n",
      "Answer: D  \n",
      "Explanation: OpenAI is the company behind the development of GPT-3, which has gained significant attention for its capabilities in natural language processing.\n",
      "\n",
      "Q7. If a product is initially priced at $50 and is later discounted by 20%, what is the final price of the product?  \n",
      "Topic: Aptitude (Percentages)  \n",
      "Difficulty: Easy  \n",
      "A. $40  \n",
      "B. $45  \n",
      "C. $48  \n",
      "D. $52  \n",
      "Answer: A  \n",
      "Explanation: A 20% discount on $50 results in a final price of $40.\n",
      "\n",
      "Q8. In cloud computing, what is the purpose of a Virtual Private Network (VPN)?  \n",
      "Topic: Cloud Computing  \n",
      "Difficulty: Medium  \n",
      "A. To secure network connections over the internet  \n",
      "B. To improve server performance  \n",
      "C. To manage virtual machines  \n",
      "D. To store data securely  \n",
      "Answer: A  \n",
      "Explanation: VPNs in cloud computing help secure and encrypt network connections over the internet to protect sensitive data.\n",
      "\n",
      "Q9. Which of the following is a complex sentence in English grammar?  \n",
      "Topic: English Grammar  \n",
      "Difficulty: Easy  \n",
      "A. I eat pizza  \n",
      "B. The cat sat on the mat  \n",
      "C. He went to the store, but he forgot to buy milk  \n",
      "D. Sarah runs fast  \n",
      "Answer: C  \n",
      "Explanation: A complex sentence contains an independent clause and one or more dependent clauses.\n",
      "\n",
      "Q10. What is the key advantage of using machine learning algorithms in artificial intelligence applications?  \n",
      "Topic: Most recent updates about Artificial Intelligence  \n",
      "Difficulty: Medium  \n",
      "A. Increased speed of decision-making  \n",
      "B. Reduced need for data  \n",
      "C. Limited scalability  \n",
      "D. Lack of adaptability  \n",
      "Answer: A  \n",
      "Explanation: Machine learning algorithms enable AI applications to analyze vast amounts of data quickly, leading to faster decision-making processes.\n"
     ]
    }
   ],
   "source": [
    "print(response_2[\"quiz\"])"
   ]
  },
  {
   "cell_type": "code",
   "execution_count": null,
   "metadata": {},
   "outputs": [],
   "source": []
  },
  {
   "cell_type": "markdown",
   "metadata": {},
   "source": [
    "### With recent trends"
   ]
  },
  {
   "cell_type": "code",
   "execution_count": 37,
   "metadata": {},
   "outputs": [],
   "source": [
    "RESPONSE_JSON = {\n",
    "    \"1\": {\n",
    "        \"mcq\": \"multiple choice question\",\n",
    "        \"Topic\": \"Topic Name\",\n",
    "        \"Difficulty\": \"Easy/Medium/Hard\",\n",
    "        \"options\": {\n",
    "            \"a\": \"choice here\",\n",
    "            \"b\": \"choice here\",\n",
    "            \"c\": \"choice here\",\n",
    "            \"d\": \"choice here\"\n",
    "        },\n",
    "        \"Answer\": \"Correct Option Letter\",\n",
    "        \"Explanation\": \"One-line explanation\" \n",
    "    },\n",
    "    \"2\": {\n",
    "        \"mcq\": \"multiple choice question\",\n",
    "        \"Topic\": \"Topic Name\",\n",
    "        \"Difficulty\": \"Easy/Medium/Hard\",\n",
    "        \"options\": {\n",
    "            \"a\": \"choice here\",\n",
    "            \"b\": \"choice here\",\n",
    "            \"c\": \"choice here\",\n",
    "            \"d\": \"choice here\"\n",
    "        },\n",
    "        \"Answer\": \"Correct Option Letter\",\n",
    "        \"Explanation\": \"One-line explanation\" \n",
    "    },\n",
    "    \"3\": {\n",
    "        \"mcq\": \"multiple choice question\",\n",
    "        \"Topic\": \"Topic Name\",\n",
    "        \"Difficulty\": \"Easy/Medium/Hard\",\n",
    "        \"options\": {\n",
    "            \"a\": \"choice here\",\n",
    "            \"b\": \"choice here\",\n",
    "            \"c\": \"choice here\",\n",
    "            \"d\": \"choice here\"\n",
    "        },\n",
    "        \"Answer\": \"Correct Option Letter\",\n",
    "        \"Explanation\": \"One-line explanation\" \n",
    "    }\n",
    "}"
   ]
  },
  {
   "cell_type": "code",
   "execution_count": 38,
   "metadata": {},
   "outputs": [],
   "source": [
    "from langchain.prompts import PromptTemplate\n",
    "\n",
    "PROMPT = \"\"\"\n",
    "You are an expert exam question setter for competitive exams, corporate assessments, and technical certifications.\n",
    "\n",
    "You are given the following external context for recent-trend topics:\n",
    "{context}\n",
    "\n",
    "Task:\n",
    "Generate multiple-choice questions (MCQs) exactly as per the counts given below.\n",
    "\n",
    "Topics, Difficulty Levels, and Question Counts:\n",
    "{topics_difficulty_counts}\n",
    "\n",
    "Rules:\n",
    "1. Use the provided context ONLY for recent-trend topics. \n",
    "2. If a topic does not require recent info, use your own knowledge.\n",
    "3. Follow the exact question count per topic.\n",
    "4. For each topic:\n",
    "   - If multiple difficulty levels are given (e.g., Easy and Medium), include a mix of those difficulties.\n",
    "5. Difficulty calibration:\n",
    "   - Easy: Simple recall or definition-based.\n",
    "   - Medium: Application-based, requires some reasoning.\n",
    "   - Hard: Scenario or case-study based, requires deep understanding.\n",
    "6. Each MCQ must have:\n",
    "   - 1 question\n",
    "   - 4 answer options: A, B, C, D\n",
    "   - Exactly one correct answer\n",
    "   - Plausible distractors for wrong answers\n",
    "   - A one-line explanation after the answer\n",
    "7. Do not repeat questions or answers.\n",
    "8. Use clear, concise, unambiguous language.\n",
    "9. Each topic should return the exact number of questions specified.\n",
    "\n",
    "Output Format:\n",
    "{response_json}\n",
    "\n",
    "Now, generate the questions.\n",
    "\"\"\"\n",
    "\n",
    "quiz_generation_prompt = PromptTemplate(\n",
    "    input_variables=[\"topics_difficulty_counts\", \"context\", \"response_json\"],\n",
    "    template=PROMPT\n",
    ")\n"
   ]
  },
  {
   "cell_type": "code",
   "execution_count": 49,
   "metadata": {},
   "outputs": [],
   "source": [
    "PROMPT_DIR = \"/Users/gokulsundeep/Desktop/Portfolio_projects/MCQ_Generator/MCQ-Generator/prompts\"\n",
    "\n",
    "with open(f\"{PROMPT_DIR}/generate_questions.txt\", \"r\") as f:\n",
    "    PROMPT = f.read()\n",
    "\n"
   ]
  },
  {
   "cell_type": "code",
   "execution_count": 51,
   "metadata": {},
   "outputs": [
    {
     "name": "stdout",
     "output_type": "stream",
     "text": [
      "You are an expert exam question setter for competitive exams, corporate assessments, and technical certifications.\n",
      "\n",
      "You are given the following external context for recent-trend topics:\n",
      "{context}\n",
      "\n",
      "Task:\n",
      "Generate multiple-choice questions (MCQs) exactly as per the counts given below.\n",
      "\n",
      "Topics, Difficulty Levels, and Question Counts:\n",
      "{topics_difficulty_counts}\n",
      "\n",
      "Rules:\n",
      "1. Use the provided context ONLY for recent-trend topics. \n",
      "2. If a topic does not require recent info, use your own knowledge.\n",
      "3. Follow the exact question count per topic.\n",
      "4. For each topic:\n",
      "   - If multiple difficulty levels are given (e.g., Easy and Medium), include a mix of those difficulties.\n",
      "5. Difficulty calibration:\n",
      "   - Easy: Simple recall or definition-based.\n",
      "   - Medium: Application-based, requires some reasoning.\n",
      "   - Hard: Scenario or case-study based, requires deep understanding.\n",
      "6. Each MCQ must have:\n",
      "   - 1 question\n",
      "   - 4 answer options: A, B, C, D\n",
      "   - Exactly one correct answer\n",
      "   - Plausible distractors for wrong answers\n",
      "   - A one-line explanation after the answer\n",
      "7. Do not repeat questions or answers.\n",
      "8. Use clear, concise, unambiguous language.\n",
      "9. Each topic should return the exact number of questions specified.\n",
      "\n",
      "Output Format:\n",
      "{response_json}\n",
      "\n",
      "Now, generate the questions.\n",
      "\n"
     ]
    }
   ],
   "source": [
    "print(PROMPT)"
   ]
  },
  {
   "cell_type": "code",
   "execution_count": 57,
   "metadata": {},
   "outputs": [],
   "source": [
    "ROOT_DIR = os.path.dirname(os.path.dirname(os.path.abspath(os.getcwd())))\n"
   ]
  },
  {
   "cell_type": "code",
   "execution_count": 39,
   "metadata": {},
   "outputs": [],
   "source": [
    "from langchain_community.tools import TavilySearchResults\n",
    "from langchain_openai import ChatOpenAI\n",
    "\n",
    "# LLM\n",
    "llm = ChatOpenAI(model=\"gpt-5-nano-2025-08-07\", temperature=1)\n",
    "\n",
    "# Web Search Tool\n",
    "search = TavilySearchResults(tavily_api_key=os.getenv(\"TAVILY_API_KEY\"), max_results=3)\n",
    "\n",
    "topics_list = [\n",
    "    {\"topic\": \"AI Agents\", \"difficulty\": \"Medium, Hard\", \"count\": 4, \"recent\": True},\n",
    "    {\"topic\": \"English Grammar\", \"difficulty\": \"Easy\", \"count\": 3, \"recent\": False},\n",
    "    {\"topic\": \"Cloud Computing\", \"difficulty\": \"Easy, Medium\", \"count\": 5, \"recent\": True}\n",
    "]\n",
    "\n",
    "# Build topics string\n",
    "topics_str = \"\\n\".join([f\"{t['topic']} - {t['difficulty']} - generate {t['count']} questions\" for t in topics_list])\n",
    "\n",
    "\n",
    "## Collect context\n",
    "context_parts = []\n",
    "for t in topics_list:\n",
    "    if t.get(\"recent\"):\n",
    "        search_results = search.run(t[\"topic\"])\n",
    "        context_parts.append(f\"Topic: {t['topic']}\\nSearch Results:\\n{search_results}\")\n",
    "context_str = \"\\n\\n\".join(context_parts) if context_parts else \"No external context required.\"\n",
    "\n",
    "# Format final prompt\n",
    "final_prompt = quiz_generation_prompt.format(\n",
    "    topics_difficulty_counts=topics_str,\n",
    "    context=context_str,\n",
    "    response_json = json.dumps(RESPONSE_JSON)\n",
    ")\n",
    "\n",
    "with get_openai_callback() as cb:\n",
    "    response = llm.invoke(final_prompt)\n"
   ]
  },
  {
   "cell_type": "code",
   "execution_count": 40,
   "metadata": {},
   "outputs": [
    {
     "name": "stdout",
     "output_type": "stream",
     "text": [
      "Total Tokens: 9904\n",
      "Prompt Tokens: 1455\n",
      "Completion Tokens: 8449\n",
      "Total Cost (USD): $0.0\n"
     ]
    }
   ],
   "source": [
    "print(f\"Total Tokens: {cb.total_tokens}\")\n",
    "print(f\"Prompt Tokens: {cb.prompt_tokens}\")\n",
    "print(f\"Completion Tokens: {cb.completion_tokens}\")\n",
    "print(f\"Total Cost (USD): ${cb.total_cost}\")"
   ]
  },
  {
   "cell_type": "code",
   "execution_count": 41,
   "metadata": {},
   "outputs": [
    {
     "name": "stdout",
     "output_type": "stream",
     "text": [
      "{\n",
      "  \"1\": {\n",
      "    \"mcq\": \"Which type of AI agent decides actions to maximize a numeric utility function given uncertainties and trade-offs?\",\n",
      "    \"Topic\": \"AI Agents\",\n",
      "    \"Difficulty\": \"Medium\",\n",
      "    \"options\": {\n",
      "      \"a\": \"Simple reflex agent\",\n",
      "      \"b\": \"Model-based reflex agent\",\n",
      "      \"c\": \"Goal-based agent\",\n",
      "      \"d\": \"Utility-based agent\"\n",
      "    },\n",
      "    \"Answer\": \"D\",\n",
      "    \"Explanation\": \"Utility-based agents select actions that maximize expected utility considering trade-offs and uncertainties.\"\n",
      "  },\n",
      "  \"2\": {\n",
      "    \"mcq\": \"In a robotics navigation task with partial observability where the agent maintains an internal representation of the world and uses it to deduce actions, this corresponds to which agent type?\",\n",
      "    \"Topic\": \"AI Agents\",\n",
      "    \"Difficulty\": \"Hard\",\n",
      "    \"options\": {\n",
      "      \"a\": \"Simple reflex agent\",\n",
      "      \"b\": \"Model-based reflex agent\",\n",
      "      \"c\": \"Goal-based agent\",\n",
      "      \"d\": \"Learning agent\"\n",
      "    },\n",
      "    \"Answer\": \"B\",\n",
      "    \"Explanation\": \"Model-based reflex agents use an internal model/state to handle partial observability.\"\n",
      "  },\n",
      "  \"3\": {\n",
      "    \"mcq\": \"An AI assistant designed to collaborate with users by understanding natural language and performing tasks such as scheduling or information retrieval is best described as which category of AI agents?\",\n",
      "    \"Topic\": \"AI Agents\",\n",
      "    \"Difficulty\": \"Medium\",\n",
      "    \"options\": {\n",
      "      \"a\": \"Simple reflex agent\",\n",
      "      \"b\": \"AI assistant\",\n",
      "      \"c\": \"Model-based agent\",\n",
      "      \"d\": \"Learning agent\"\n",
      "    },\n",
      "    \"Answer\": \"B\",\n",
      "    \"Explanation\": \"AI assistants are designed to collaborate with users via natural language and perform tasks.\"\n",
      "  },\n",
      "  \"4\": {\n",
      "    \"mcq\": \"Which approach is commonly used to evaluate AI agents by comparing their decisions against a benchmark or oracle in a simulated environment?\",\n",
      "    \"Topic\": \"AI Agents\",\n",
      "    \"Difficulty\": \"Hard\",\n",
      "    \"options\": {\n",
      "      \"a\": \"Heuristic testing\",\n",
      "      \"b\": \"Random testing\",\n",
      "      \"c\": \"Benchmark-based evaluation against an oracle\",\n",
      "      \"d\": \"Manual inspection\"\n",
      "    },\n",
      "    \"Answer\": \"C\",\n",
      "    \"Explanation\": \"Benchmark-based evaluation against an oracle is a standard method to assess agent decision quality in simulations.\"\n",
      "  },\n",
      "  \"5\": {\n",
      "    \"mcq\": \"Which sentence is in the present continuous tense?\",\n",
      "    \"Topic\": \"English Grammar\",\n",
      "    \"Difficulty\": \"Easy\",\n",
      "    \"options\": {\n",
      "      \"a\": \"She walks to school.\",\n",
      "      \"b\": \"She is walking to school.\",\n",
      "      \"c\": \"She walked to school.\",\n",
      "      \"d\": \"She will walk to school.\"\n",
      "    },\n",
      "    \"Answer\": \"B\",\n",
      "    \"Explanation\": \"The present continuous is formed with 'is/are/am' + verb-ing (is walking).\"\n",
      "  },\n",
      "  \"6\": {\n",
      "    \"mcq\": \"What is the plural form of the word 'analysis'?\",\n",
      "    \"Topic\": \"English Grammar\",\n",
      "    \"Difficulty\": \"Easy\",\n",
      "    \"options\": {\n",
      "      \"a\": \"analysises\",\n",
      "      \"b\": \"analyses\",\n",
      "      \"c\": \"analysises\",\n",
      "      \"d\": \"analysi\"\n",
      "    },\n",
      "    \"Answer\": \"B\",\n",
      "    \"Explanation\": \"The plural of 'analysis' is 'analyses'.\" \n",
      "  },\n",
      "  \"7\": {\n",
      "    \"mcq\": \"Choose the correctly punctuated sentence with quotation marks.\",\n",
      "    \"Topic\": \"English Grammar\",\n",
      "    \"Difficulty\": \"Easy\",\n",
      "    \"options\": {\n",
      "      \"a\": \"He asked, \\\"Can you help me?\\\"\",\n",
      "      \"b\": \"He asked, \\\"Can you help me\\\".\",\n",
      "      \"c\": \"He asked, Can you help me?\",\n",
      "      \"d\": \"He asked, \\\"Can you help me\\\"?\"\n",
      "    },\n",
      "    \"Answer\": \"A\",\n",
      "    \"Explanation\": \"When the quoted material is a question, the question mark goes inside the quotation marks.\"\n",
      "  },\n",
      "  \"8\": {\n",
      "    \"mcq\": \"Cloud computing is the on-demand availability of computing resources (such as storage and infrastructure) over the internet. Which option best matches this definition?\",\n",
      "    \"Topic\": \"Cloud Computing\",\n",
      "    \"Difficulty\": \"Easy\",\n",
      "    \"options\": {\n",
      "      \"a\": \"On-demand access to computing resources over the internet\",\n",
      "      \"b\": \"The requirement to own physical hardware\",\n",
      "      \"c\": \"A software license model\",\n",
      "      \"d\": \"A type of database\"\n",
      "    },\n",
      "    \"Answer\": \"A\",\n",
      "    \"Explanation\": \"Cloud computing provides on-demand access to computing resources over the internet.\"\n",
      "  },\n",
      "  \"9\": {\n",
      "    \"mcq\": \"Which statement describes a typical advantage of cloud computing?\",\n",
      "    \"Topic\": \"Cloud Computing\",\n",
      "    \"Difficulty\": \"Easy\",\n",
      "    \"options\": {\n",
      "      \"a\": \"You pay a fixed monthly fee regardless of usage\",\n",
      "      \"b\": \"You own the hardware and manage maintenance\",\n",
      "      \"c\": \"You pay only for what you use\",\n",
      "      \"d\": \"It eliminates the need for security\"\n",
      "    },\n",
      "    \"Answer\": \"C\",\n",
      "    \"Explanation\": \"A common benefit is paying only for what you use (pay-as-you-go).\"\n",
      "  },\n",
      "  \"10\": {\n",
      "    \"mcq\": \"Which service model provides virtualized computing infrastructure such as servers and storage over the internet?\",\n",
      "    \"Topic\": \"Cloud Computing\",\n",
      "    \"Difficulty\": \"Easy\",\n",
      "    \"options\": {\n",
      "      \"a\": \"Software as a Service\",\n",
      "      \"b\": \"Platform as a Service\",\n",
      "      \"c\": \"Infrastructure as a Service\",\n",
      "      \"d\": \"Function as a Service\"\n",
      "    },\n",
      "    \"Answer\": \"C\",\n",
      "    \"Explanation\": \"IaaS offers virtualized computing resources like servers and storage.\"\n",
      "  },\n",
      "  \"11\": {\n",
      "    \"mcq\": \"What cloud computing feature enables rapid scaling of resources up or down in response to workload changes?\",\n",
      "    \"Topic\": \"Cloud Computing\",\n",
      "    \"Difficulty\": \"Medium\",\n",
      "    \"options\": {\n",
      "      \"a\": \"Elasticity\",\n",
      "      \"b\": \"Isolation\",\n",
      "      \"c\": \"Redundancy\",\n",
      "      \"d\": \"Inertia\"\n",
      "    },\n",
      "    \"Answer\": \"A\",\n",
      "    \"Explanation\": \"Elasticity allows scaling resources quickly to meet demand.\"\n",
      "  },\n",
      "  \"12\": {\n",
      "    \"mcq\": \"Which cloud model delivers software applications to users over the internet, with the provider managing the underlying infrastructure and platforms?\",\n",
      "    \"Topic\": \"Cloud Computing\",\n",
      "    \"Difficulty\": \"Medium\",\n",
      "    \"options\": {\n",
      "      \"a\": \"IaaS\",\n",
      "      \"b\": \"PaaS\",\n",
      "      \"c\": \"SaaS\",\n",
      "      \"d\": \"FaaS\"\n",
      "    },\n",
      "    \"Answer\": \"C\",\n",
      "    \"Explanation\": \"SaaS provides software applications to users hosted by the provider.\"\n",
      "  }\n",
      "}\n"
     ]
    }
   ],
   "source": [
    "print(response.content)"
   ]
  },
  {
   "cell_type": "code",
   "execution_count": 44,
   "metadata": {},
   "outputs": [],
   "source": [
    "result_dict = json.loads(response.content)"
   ]
  },
  {
   "cell_type": "code",
   "execution_count": 47,
   "metadata": {},
   "outputs": [
    {
     "data": {
      "text/plain": [
       "AIMessage(content='{\\n  \"1\": {\\n    \"mcq\": \"Which type of AI agent decides actions to maximize a numeric utility function given uncertainties and trade-offs?\",\\n    \"Topic\": \"AI Agents\",\\n    \"Difficulty\": \"Medium\",\\n    \"options\": {\\n      \"a\": \"Simple reflex agent\",\\n      \"b\": \"Model-based reflex agent\",\\n      \"c\": \"Goal-based agent\",\\n      \"d\": \"Utility-based agent\"\\n    },\\n    \"Answer\": \"D\",\\n    \"Explanation\": \"Utility-based agents select actions that maximize expected utility considering trade-offs and uncertainties.\"\\n  },\\n  \"2\": {\\n    \"mcq\": \"In a robotics navigation task with partial observability where the agent maintains an internal representation of the world and uses it to deduce actions, this corresponds to which agent type?\",\\n    \"Topic\": \"AI Agents\",\\n    \"Difficulty\": \"Hard\",\\n    \"options\": {\\n      \"a\": \"Simple reflex agent\",\\n      \"b\": \"Model-based reflex agent\",\\n      \"c\": \"Goal-based agent\",\\n      \"d\": \"Learning agent\"\\n    },\\n    \"Answer\": \"B\",\\n    \"Explanation\": \"Model-based reflex agents use an internal model/state to handle partial observability.\"\\n  },\\n  \"3\": {\\n    \"mcq\": \"An AI assistant designed to collaborate with users by understanding natural language and performing tasks such as scheduling or information retrieval is best described as which category of AI agents?\",\\n    \"Topic\": \"AI Agents\",\\n    \"Difficulty\": \"Medium\",\\n    \"options\": {\\n      \"a\": \"Simple reflex agent\",\\n      \"b\": \"AI assistant\",\\n      \"c\": \"Model-based agent\",\\n      \"d\": \"Learning agent\"\\n    },\\n    \"Answer\": \"B\",\\n    \"Explanation\": \"AI assistants are designed to collaborate with users via natural language and perform tasks.\"\\n  },\\n  \"4\": {\\n    \"mcq\": \"Which approach is commonly used to evaluate AI agents by comparing their decisions against a benchmark or oracle in a simulated environment?\",\\n    \"Topic\": \"AI Agents\",\\n    \"Difficulty\": \"Hard\",\\n    \"options\": {\\n      \"a\": \"Heuristic testing\",\\n      \"b\": \"Random testing\",\\n      \"c\": \"Benchmark-based evaluation against an oracle\",\\n      \"d\": \"Manual inspection\"\\n    },\\n    \"Answer\": \"C\",\\n    \"Explanation\": \"Benchmark-based evaluation against an oracle is a standard method to assess agent decision quality in simulations.\"\\n  },\\n  \"5\": {\\n    \"mcq\": \"Which sentence is in the present continuous tense?\",\\n    \"Topic\": \"English Grammar\",\\n    \"Difficulty\": \"Easy\",\\n    \"options\": {\\n      \"a\": \"She walks to school.\",\\n      \"b\": \"She is walking to school.\",\\n      \"c\": \"She walked to school.\",\\n      \"d\": \"She will walk to school.\"\\n    },\\n    \"Answer\": \"B\",\\n    \"Explanation\": \"The present continuous is formed with \\'is/are/am\\' + verb-ing (is walking).\"\\n  },\\n  \"6\": {\\n    \"mcq\": \"What is the plural form of the word \\'analysis\\'?\",\\n    \"Topic\": \"English Grammar\",\\n    \"Difficulty\": \"Easy\",\\n    \"options\": {\\n      \"a\": \"analysises\",\\n      \"b\": \"analyses\",\\n      \"c\": \"analysises\",\\n      \"d\": \"analysi\"\\n    },\\n    \"Answer\": \"B\",\\n    \"Explanation\": \"The plural of \\'analysis\\' is \\'analyses\\'.\" \\n  },\\n  \"7\": {\\n    \"mcq\": \"Choose the correctly punctuated sentence with quotation marks.\",\\n    \"Topic\": \"English Grammar\",\\n    \"Difficulty\": \"Easy\",\\n    \"options\": {\\n      \"a\": \"He asked, \\\\\"Can you help me?\\\\\"\",\\n      \"b\": \"He asked, \\\\\"Can you help me\\\\\".\",\\n      \"c\": \"He asked, Can you help me?\",\\n      \"d\": \"He asked, \\\\\"Can you help me\\\\\"?\"\\n    },\\n    \"Answer\": \"A\",\\n    \"Explanation\": \"When the quoted material is a question, the question mark goes inside the quotation marks.\"\\n  },\\n  \"8\": {\\n    \"mcq\": \"Cloud computing is the on-demand availability of computing resources (such as storage and infrastructure) over the internet. Which option best matches this definition?\",\\n    \"Topic\": \"Cloud Computing\",\\n    \"Difficulty\": \"Easy\",\\n    \"options\": {\\n      \"a\": \"On-demand access to computing resources over the internet\",\\n      \"b\": \"The requirement to own physical hardware\",\\n      \"c\": \"A software license model\",\\n      \"d\": \"A type of database\"\\n    },\\n    \"Answer\": \"A\",\\n    \"Explanation\": \"Cloud computing provides on-demand access to computing resources over the internet.\"\\n  },\\n  \"9\": {\\n    \"mcq\": \"Which statement describes a typical advantage of cloud computing?\",\\n    \"Topic\": \"Cloud Computing\",\\n    \"Difficulty\": \"Easy\",\\n    \"options\": {\\n      \"a\": \"You pay a fixed monthly fee regardless of usage\",\\n      \"b\": \"You own the hardware and manage maintenance\",\\n      \"c\": \"You pay only for what you use\",\\n      \"d\": \"It eliminates the need for security\"\\n    },\\n    \"Answer\": \"C\",\\n    \"Explanation\": \"A common benefit is paying only for what you use (pay-as-you-go).\"\\n  },\\n  \"10\": {\\n    \"mcq\": \"Which service model provides virtualized computing infrastructure such as servers and storage over the internet?\",\\n    \"Topic\": \"Cloud Computing\",\\n    \"Difficulty\": \"Easy\",\\n    \"options\": {\\n      \"a\": \"Software as a Service\",\\n      \"b\": \"Platform as a Service\",\\n      \"c\": \"Infrastructure as a Service\",\\n      \"d\": \"Function as a Service\"\\n    },\\n    \"Answer\": \"C\",\\n    \"Explanation\": \"IaaS offers virtualized computing resources like servers and storage.\"\\n  },\\n  \"11\": {\\n    \"mcq\": \"What cloud computing feature enables rapid scaling of resources up or down in response to workload changes?\",\\n    \"Topic\": \"Cloud Computing\",\\n    \"Difficulty\": \"Medium\",\\n    \"options\": {\\n      \"a\": \"Elasticity\",\\n      \"b\": \"Isolation\",\\n      \"c\": \"Redundancy\",\\n      \"d\": \"Inertia\"\\n    },\\n    \"Answer\": \"A\",\\n    \"Explanation\": \"Elasticity allows scaling resources quickly to meet demand.\"\\n  },\\n  \"12\": {\\n    \"mcq\": \"Which cloud model delivers software applications to users over the internet, with the provider managing the underlying infrastructure and platforms?\",\\n    \"Topic\": \"Cloud Computing\",\\n    \"Difficulty\": \"Medium\",\\n    \"options\": {\\n      \"a\": \"IaaS\",\\n      \"b\": \"PaaS\",\\n      \"c\": \"SaaS\",\\n      \"d\": \"FaaS\"\\n    },\\n    \"Answer\": \"C\",\\n    \"Explanation\": \"SaaS provides software applications to users hosted by the provider.\"\\n  }\\n}', additional_kwargs={'refusal': None}, response_metadata={'token_usage': {'completion_tokens': 8449, 'prompt_tokens': 1455, 'total_tokens': 9904, 'completion_tokens_details': {'accepted_prediction_tokens': 0, 'audio_tokens': 0, 'reasoning_tokens': 6976, 'rejected_prediction_tokens': 0}, 'prompt_tokens_details': {'audio_tokens': 0, 'cached_tokens': 0}}, 'model_name': 'gpt-5-nano-2025-08-07', 'system_fingerprint': None, 'finish_reason': 'stop', 'logprobs': None}, id='run-62c4c6e8-88bf-4228-8ddc-fc7c67b35fd6-0', usage_metadata={'input_tokens': 1455, 'output_tokens': 8449, 'total_tokens': 9904})"
      ]
     },
     "execution_count": 47,
     "metadata": {},
     "output_type": "execute_result"
    }
   ],
   "source": [
    "response"
   ]
  },
  {
   "cell_type": "code",
   "execution_count": null,
   "metadata": {},
   "outputs": [],
   "source": []
  }
 ],
 "metadata": {
  "kernelspec": {
   "display_name": "Python 3",
   "language": "python",
   "name": "python3"
  },
  "language_info": {
   "codemirror_mode": {
    "name": "ipython",
    "version": 3
   },
   "file_extension": ".py",
   "mimetype": "text/x-python",
   "name": "python",
   "nbconvert_exporter": "python",
   "pygments_lexer": "ipython3",
   "version": "3.8.20"
  }
 },
 "nbformat": 4,
 "nbformat_minor": 2
}
